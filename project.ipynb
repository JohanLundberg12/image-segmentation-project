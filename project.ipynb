{
 "cells": [
  {
   "cell_type": "code",
   "execution_count": 365,
   "id": "3c8c0217",
   "metadata": {},
   "outputs": [],
   "source": [
    "import torch\n",
    "from torchvision import transforms\n",
    "from torch.utils.data import DataLoader\n",
    "from torch import nn\n",
    "import numpy as np\n",
    "import os\n",
    "import yaml\n",
    "from pathlib import Path\n",
    "from PIL import Image"
   ]
  },
  {
   "cell_type": "code",
   "execution_count": 366,
   "id": "5e4caad6",
   "metadata": {},
   "outputs": [],
   "source": [
    "path = \"./archive/\""
   ]
  },
  {
   "cell_type": "code",
   "execution_count": 367,
   "id": "9ddc6c70",
   "metadata": {},
   "outputs": [],
   "source": [
    "argv = \"./baseline_config.yaml\""
   ]
  },
  {
   "cell_type": "code",
   "execution_count": 368,
   "id": "ec14d19b",
   "metadata": {},
   "outputs": [],
   "source": [
    "config = yaml.safe_load(open(argv, \"r\"))"
   ]
  },
  {
   "cell_type": "code",
   "execution_count": 369,
   "id": "a8ba8f28",
   "metadata": {},
   "outputs": [
    {
     "data": {
      "text/plain": [
       "{'model': {'name': 'Baseline'}, 'augmentation': {'name': '00'}}"
      ]
     },
     "execution_count": 369,
     "metadata": {},
     "output_type": "execute_result"
    }
   ],
   "source": [
    "config"
   ]
  },
  {
   "cell_type": "code",
   "execution_count": 370,
   "id": "fc4a8300",
   "metadata": {},
   "outputs": [],
   "source": [
    "class BaseLineModel(nn.Module):\n",
    "    def __init__(self):\n",
    "        pass\n",
    "class BestCNN(nn.Module):\n",
    "    def __init__(self):\n",
    "        pass\n",
    "class Transformer(nn.Module):\n",
    "    def __init__(self):\n",
    "        pass\n",
    "\n",
    "def create_model(config: dict):\n",
    "    if config[\"model\"][\"name\"] == \"Baseline\":\n",
    "        model = BaseLineModel()\n",
    "    elif config[\"model\"][\"name\"] == \"BestCNN\":\n",
    "        model = BestCNN()\n",
    "    else:\n",
    "        model = Transformer()\n",
    "    \n",
    "    return model\n",
    "\n",
    "def get_transform():\n",
    "    transform = transforms.Compose(\n",
    "        [\n",
    "            transforms.Resize((128, 128)),\n",
    "            transforms.ToTensor(),  # Shape: HWC, Scales data into [0,1] by div / 255\n",
    "            transforms.Normalize(mean=[0, 0, 0], std=[1, 1, 1]) # image_channel = (image - mean) / std\n",
    "        ]\n",
    "    )\n",
    "\n",
    "    return transform\n",
    "\n",
    "def create_dataloaders(config: dict):\n",
    "    augmentations = []\n",
    "    if config[\"augmentation\"][\"name\"] == 'all':\n",
    "        augmentations = ['00', '01', '02', '03', '04', '05', '06']\n",
    "    elif not config[\"augmentation\"][\"name\"]:\n",
    "        augmentations = ['00']\n",
    "    else:\n",
    "        augmentations.append(config[\"augmentation\"][\"name\"])\n",
    "        \n",
    "    transformation = get_transform() # get transformations on the image\n",
    "    \n",
    "    sea_animals_train = SeaAnimalsDataset(\n",
    "                                        img_path=\"train_augment\",\n",
    "                                        transform=transformation,\n",
    "                                        train=True,\n",
    "                                        augmentations=augmentations)\n",
    "    sea_animals_val = SeaAnimalsDataset(\n",
    "                                        img_path=\"val\",\n",
    "                                        transform=transformation,\n",
    "                                        train=False)\n",
    "    sea_animals_test = SeaAnimalsDataset(\n",
    "                                        img_path=\"test\",\n",
    "                                        transform=transformation,\n",
    "                                        train=False)\n",
    "    train_loader = DataLoader(sea_animals_train, batch_size=1, shuffle=True, drop_last=False)\n",
    "    val_loader = DataLoader(sea_animals_val, batch_size=1, shuffle=True, drop_last=False)\n",
    "    test_loader = DataLoader(sea_animals_test, batch_size=1, shuffle=True, drop_last=False)\n",
    "    \n",
    "    return train_loader, val_loader, test_loader\n",
    "    \n",
    "\n",
    "def make(config: dict):\n",
    "    \"\"\"Return model and dataloader with/without data augmentation\"\"\"\n",
    "    \n",
    "    model = create_model(config) # get model\n",
    "    trainloader, val_loader, test_loader = create_dataloaders(config)\n",
    "        \n",
    "    return model, train_loader, val_loader, test_loader\n",
    "        \n",
    "\n",
    "\n",
    "model, train_loader, val_loader, test_loader = make(config)"
   ]
  },
  {
   "cell_type": "code",
   "execution_count": 376,
   "id": "cbad3f90",
   "metadata": {},
   "outputs": [
    {
     "data": {
      "text/plain": [
       "(8242, 2345, 1155)"
      ]
     },
     "execution_count": 376,
     "metadata": {},
     "output_type": "execute_result"
    }
   ],
   "source": [
    "len(train_loader), len(val_loader), len(test_loader)"
   ]
  },
  {
   "cell_type": "code",
   "execution_count": 343,
   "id": "b40a5d9d",
   "metadata": {},
   "outputs": [],
   "source": [
    "def walk_through_dir(path: str):\n",
    "    dir_tree_generator = os.walk(path)\n",
    "    dirpath, dirnames, filenames = next(dir_tree_generator)\n",
    "    print(\"Root folder: \", dirpath)\n",
    "    print(\"It has {} subfolders and {} images\".format(len(dirnames), len(filenames)))\n",
    "    print()\n",
    "    \n",
    "    for dirpath, dirnames, filenames in dir_tree_generator:\n",
    "        print(\"This is a folder: \", dirpath)\n",
    "        print(\"It has {} subfolders and {} images\".format(len(dirnames), len(filenames)))\n",
    "        label = os.path.basename(dirpath)\n",
    "        print(\"Class: \", label, \"\\n\")"
   ]
  },
  {
   "cell_type": "code",
   "execution_count": 331,
   "id": "3b883420",
   "metadata": {},
   "outputs": [
    {
     "name": "stdout",
     "output_type": "stream",
     "text": [
      "Root folder:  train_augment/\n",
      "It has 0 subfolders and 57694 images\n",
      "\n",
      "Root folder:  train/\n",
      "It has 0 subfolders and 8242 images\n",
      "\n",
      "Root folder:  val/\n",
      "It has 0 subfolders and 2345 images\n",
      "\n",
      "Root folder:  test/\n",
      "It has 0 subfolders and 1155 images\n",
      "\n"
     ]
    },
    {
     "data": {
      "text/plain": [
       "(None, None, None, None)"
      ]
     },
     "execution_count": 331,
     "metadata": {},
     "output_type": "execute_result"
    }
   ],
   "source": [
    "walk_through_dir(\"train_augment/\"), walk_through_dir(\"train/\"), walk_through_dir(\"val/\"), walk_through_dir(\"test/\")"
   ]
  },
  {
   "cell_type": "code",
   "execution_count": 378,
   "id": "a15b15c9",
   "metadata": {},
   "outputs": [],
   "source": [
    "def _get_name(path: str):\n",
    "    name, ext = os.path.splitext(path.split(\"_\")[-2])\n",
    "    \n",
    "    return name"
   ]
  },
  {
   "cell_type": "code",
   "execution_count": 319,
   "id": "064afb78",
   "metadata": {},
   "outputs": [],
   "source": [
    "from typing import List\n",
    "\n",
    "class SeaAnimalsDataset:\n",
    "\n",
    "    def __init__(self, img_path, transform,\n",
    "                 train: bool = True, augmentations: List[str] = ['00']):\n",
    "        self.img_path = img_path\n",
    "        self.transform = transform\n",
    "        self.total_imgs = os.listdir(self.img_path)\n",
    "\n",
    "        if train:\n",
    "            self.total_imgs = [\n",
    "                img_path for img_path in self.total_imgs if img_path[-6:-4] in augmentations]\n",
    "        self.total_labels = list(map(lambda img_path: _get_name(img_path), self.total_imgs))\n",
    "\n",
    "    def __len__(self):\n",
    "        return len(self.total_imgs)\n",
    "\n",
    "    def __getitem__(self, idx):\n",
    "        img_loc = os.path.join(self.img_path, self.total_imgs[idx])\n",
    "        image = Image.open(img_loc).convert(\"RGB\")\n",
    "        label = self.total_labels[idx]\n",
    "        out_image = self.transform(image)\n",
    "        out_image = transforms.Compose([transforms.ToTensor()])(out_image)\n",
    "\n",
    "        return out_image, label"
   ]
  },
  {
   "cell_type": "code",
   "execution_count": 347,
   "id": "7fe73aa3",
   "metadata": {},
   "outputs": [],
   "source": [
    "augmentations = ['00']\n",
    "train_imgs_path = 'train_augment'\n",
    "sea_animals_train = SeaAnimalsDataset(\n",
    "        img_path=train_imgs_path,\n",
    "        transform=transformation,\n",
    "        train=True,\n",
    "        augmentations=augmentations)\n",
    "sea_animals_val = SeaAnimalsDataset(\n",
    "    img_path=\"val\",\n",
    "    transform=transformation,\n",
    "    train=False)\n",
    "sea_animals_test = SeaAnimalsDataset(\n",
    "    img_path=\"test\",\n",
    "    transform=transformation,\n",
    "    train=False)"
   ]
  },
  {
   "cell_type": "code",
   "execution_count": 358,
   "id": "a728d58f",
   "metadata": {},
   "outputs": [],
   "source": [
    "train_loader = DataLoader(sea_animals_train, batch_size=1, shuffle=True, drop_last=False)\n",
    "val_loader = DataLoader(sea_animals_val, batch_size=1, shuffle=True, drop_last=False)\n",
    "test_loader = DataLoader(sea_animals_test, batch_size=1, shuffle=True, drop_last=False)"
   ]
  },
  {
   "cell_type": "code",
   "execution_count": 359,
   "id": "9644425c",
   "metadata": {},
   "outputs": [
    {
     "data": {
      "text/plain": [
       "(torch.utils.data.dataloader.DataLoader,\n",
       " torch.utils.data.dataloader.DataLoader,\n",
       " torch.utils.data.dataloader.DataLoader)"
      ]
     },
     "execution_count": 359,
     "metadata": {},
     "output_type": "execute_result"
    }
   ],
   "source": [
    "type(train_loader), type(val_loader), type(test_loader)"
   ]
  },
  {
   "cell_type": "code",
   "execution_count": 363,
   "id": "07ffb63b",
   "metadata": {},
   "outputs": [
    {
     "name": "stdout",
     "output_type": "stream",
     "text": [
      "11742\n",
      "8242 2345 1155\n",
      "0.7019247146993698 0.19971044115142225 0.09836484414920797\n"
     ]
    }
   ],
   "source": [
    "total = sum([len(train_loader), len(val_loader), len(test_loader)])\n",
    "print(total)\n",
    "print(len(train_loader), len(val_loader), len(test_loader))\n",
    "print(len(train_loader)/total, len(val_loader)/total, len(test_loader)/total)"
   ]
  },
  {
   "cell_type": "code",
   "execution_count": null,
   "id": "e78eac1f",
   "metadata": {},
   "outputs": [],
   "source": [
    "# model_1\n",
    "# plot of f1 on train-val data\n",
    "# plot of f1 on train-val data with augmentations\n",
    "# average f1 on hold-out data set \n",
    "# model_2\n",
    "# transformer"
   ]
  }
 ],
 "metadata": {
  "kernelspec": {
   "display_name": "myenv",
   "language": "python",
   "name": "myenv"
  },
  "language_info": {
   "codemirror_mode": {
    "name": "ipython",
    "version": 3
   },
   "file_extension": ".py",
   "mimetype": "text/x-python",
   "name": "python",
   "nbconvert_exporter": "python",
   "pygments_lexer": "ipython3",
   "version": "3.10.4"
  }
 },
 "nbformat": 4,
 "nbformat_minor": 5
}
