{
 "cells": [
  {
   "cell_type": "code",
   "execution_count": 2,
   "id": "3c8c0217",
   "metadata": {},
   "outputs": [],
   "source": [
    "import torch\n",
    "from torchvision import transforms\n",
    "from torch.utils.data import DataLoader\n",
    "from torch import nn\n",
    "import numpy as np\n",
    "import os\n",
    "import yaml\n",
    "from pathlib import Path\n",
    "from PIL import Image\n",
    "\n",
    "from SeaAnimalsDataset import SeaAnimalsDataset"
   ]
  },
  {
   "cell_type": "code",
   "execution_count": 3,
   "id": "5e4caad6",
   "metadata": {},
   "outputs": [],
   "source": [
    "path = \"./archive/\""
   ]
  },
  {
   "cell_type": "code",
   "execution_count": 4,
   "id": "9ddc6c70",
   "metadata": {},
   "outputs": [],
   "source": [
    "argv = \"./baseline_config.yaml\""
   ]
  },
  {
   "cell_type": "code",
   "execution_count": 5,
   "id": "ec14d19b",
   "metadata": {},
   "outputs": [],
   "source": [
    "config = yaml.safe_load(open(argv, \"r\"))"
   ]
  },
  {
   "cell_type": "code",
   "execution_count": 6,
   "id": "a8ba8f28",
   "metadata": {},
   "outputs": [
    {
     "data": {
      "text/plain": [
       "{'model': {'name': 'Baseline'}, 'augmentation': {'name': '00'}}"
      ]
     },
     "execution_count": 6,
     "metadata": {},
     "output_type": "execute_result"
    }
   ],
   "source": [
    "config"
   ]
  },
  {
   "cell_type": "code",
   "execution_count": 7,
   "id": "fc4a8300",
   "metadata": {},
   "outputs": [],
   "source": [
    "class BaseLineModel(nn.Module):\n",
    "    def __init__(self):\n",
    "        pass\n",
    "class BestCNN(nn.Module):\n",
    "    def __init__(self):\n",
    "        pass\n",
    "class Transformer(nn.Module):\n",
    "    def __init__(self):\n",
    "        pass\n",
    "\n",
    "def create_model(config: dict):\n",
    "    if config[\"model\"][\"name\"] == \"Baseline\":\n",
    "        model = BaseLineModel()\n",
    "    elif config[\"model\"][\"name\"] == \"BestCNN\":\n",
    "        model = BestCNN()\n",
    "    else:\n",
    "        model = Transformer()\n",
    "    \n",
    "    return model\n",
    "\n",
    "def get_transform():\n",
    "    transform = transforms.Compose(\n",
    "        [\n",
    "            transforms.Resize((128, 128)),\n",
    "            transforms.ToTensor(),  # Shape: HWC, Scales data into [0,1] by div / 255\n",
    "            transforms.Normalize(mean=[0, 0, 0], std=[1, 1, 1]) # image_channel = (image - mean) / std\n",
    "        ]\n",
    "    )\n",
    "\n",
    "    return transform\n",
    "\n",
    "def create_dataloaders(config: dict):\n",
    "    augmentations = []\n",
    "    if config[\"augmentation\"][\"name\"] == 'all':\n",
    "        augmentations = ['00', '01', '02', '03', '04', '05', '06']\n",
    "    elif not config[\"augmentation\"][\"name\"]:\n",
    "        augmentations = ['00']\n",
    "    else:\n",
    "        augmentations.append(config[\"augmentation\"][\"name\"])\n",
    "        \n",
    "    transformation = get_transform() # get transformations on the image\n",
    "    \n",
    "    sea_animals_train = SeaAnimalsDataset(\n",
    "                                        img_path=\"train_augment\",\n",
    "                                        transform=transformation,\n",
    "                                        train=True,\n",
    "                                        augmentations=augmentations)\n",
    "    sea_animals_val = SeaAnimalsDataset(\n",
    "                                        img_path=\"val\",\n",
    "                                        transform=transformation,\n",
    "                                        train=False)\n",
    "    sea_animals_test = SeaAnimalsDataset(\n",
    "                                        img_path=\"test\",\n",
    "                                        transform=transformation,\n",
    "                                        train=False)\n",
    "    train_loader = DataLoader(sea_animals_train, batch_size=1, shuffle=True, drop_last=False)\n",
    "    val_loader = DataLoader(sea_animals_val, batch_size=1, shuffle=True, drop_last=False)\n",
    "    test_loader = DataLoader(sea_animals_test, batch_size=1, shuffle=True, drop_last=False)\n",
    "    \n",
    "    return train_loader, val_loader, test_loader\n",
    "    \n",
    "\n",
    "def make(config: dict):\n",
    "    \"\"\"Return model and dataloader with/without data augmentation\"\"\"\n",
    "    \n",
    "    model = create_model(config) # get model\n",
    "    train_loader, val_loader, test_loader = create_dataloaders(config)\n",
    "        \n",
    "    return model, train_loader, val_loader, test_loader\n",
    "        \n",
    "\n",
    "\n",
    "model, train_loader, val_loader, test_loader = make(config)"
   ]
  },
  {
   "cell_type": "code",
   "execution_count": 8,
   "id": "1ba9d4fe",
   "metadata": {},
   "outputs": [],
   "source": [
    "transformation = get_transform() # get transformations on the image\n",
    "\n",
    "sea_animals_train = SeaAnimalsDataset(\n",
    "                                        img_path=\"train_augment\",\n",
    "                                        transform=transformation,\n",
    "                                        train=True,\n",
    "                                        augmentations=[\"00\"])"
   ]
  },
  {
   "cell_type": "code",
   "execution_count": 347,
   "id": "5223e518",
   "metadata": {},
   "outputs": [],
   "source": [
    "augmentations = ['00']\n",
    "train_imgs_path = 'train_augment'\n",
    "sea_animals_train = SeaAnimalsDataset(\n",
    "        img_path=train_imgs_path,\n",
    "        transform=transformation,\n",
    "        train=True,\n",
    "        augmentations=augmentations)\n",
    "sea_animals_val = SeaAnimalsDataset(\n",
    "    img_path=\"val\",\n",
    "    transform=transformation,\n",
    "    train=False)\n",
    "sea_animals_test = SeaAnimalsDataset(\n",
    "    img_path=\"test\",\n",
    "    transform=transformation,\n",
    "    train=False)"
   ]
  },
  {
   "cell_type": "code",
   "execution_count": 358,
   "id": "6b834328",
   "metadata": {},
   "outputs": [],
   "source": [
    "train_loader = DataLoader(sea_animals_train, batch_size=1, shuffle=True, drop_last=False)\n",
    "val_loader = DataLoader(sea_animals_val, batch_size=1, shuffle=True, drop_last=False)\n",
    "test_loader = DataLoader(sea_animals_test, batch_size=1, shuffle=True, drop_last=False)"
   ]
  },
  {
   "cell_type": "code",
   "execution_count": 359,
   "id": "9644425c",
   "metadata": {},
   "outputs": [
    {
     "data": {
      "text/plain": [
       "(torch.utils.data.dataloader.DataLoader,\n",
       " torch.utils.data.dataloader.DataLoader,\n",
       " torch.utils.data.dataloader.DataLoader)"
      ]
     },
     "execution_count": 359,
     "metadata": {},
     "output_type": "execute_result"
    }
   ],
   "source": [
    "type(train_loader), type(val_loader), type(test_loader)"
   ]
  },
  {
   "cell_type": "code",
   "execution_count": 363,
   "id": "c1f7c142",
   "metadata": {},
   "outputs": [
    {
     "name": "stdout",
     "output_type": "stream",
     "text": [
      "11742\n",
      "8242 2345 1155\n",
      "0.7019247146993698 0.19971044115142225 0.09836484414920797\n"
     ]
    }
   ],
   "source": [
    "total = sum([len(train_loader), len(val_loader), len(test_loader)])\n",
    "print(total)\n",
    "print(len(train_loader), len(val_loader), len(test_loader))\n",
    "print(len(train_loader)/total, len(val_loader)/total, len(test_loader)/total)"
   ]
  },
  {
   "cell_type": "code",
   "execution_count": null,
   "id": "e78eac1f",
   "metadata": {},
   "outputs": [],
   "source": [
    "# model_1\n",
    "# plot of f1 on train-val data\n",
    "# plot of f1 on train-val data with augmentations\n",
    "# average f1 on hold-out data set \n",
    "# model_2\n",
    "# transformer"
   ]
  }
 ],
 "metadata": {
  "kernelspec": {
   "display_name": "myenv",
   "language": "python",
   "name": "myenv"
  },
  "language_info": {
   "codemirror_mode": {
    "name": "ipython",
    "version": 3
   },
   "file_extension": ".py",
   "mimetype": "text/x-python",
   "name": "python",
   "nbconvert_exporter": "python",
   "pygments_lexer": "ipython3",
   "version": "3.10.4"
  }
 },
 "nbformat": 4,
 "nbformat_minor": 5
}
